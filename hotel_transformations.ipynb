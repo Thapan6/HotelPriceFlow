{
 "cells": [
  {
   "cell_type": "code",
   "execution_count": 0,
   "metadata": {
    "application/vnd.databricks.v1+cell": {
     "cellMetadata": {
      "byteLimit": 2048000,
      "rowLimit": 10000
     },
     "inputWidgets": {},
     "nuid": "79a7f489-a4ce-4700-9948-a8871f2e00f9",
     "showTitle": false,
     "tableResultSettingsMap": {},
     "title": ""
    }
   },
   "outputs": [],
   "source": [
    "import string\n",
    "from pyspark.sql import DataFrame\n",
    "from pyspark.sql.functions import current_timestamp\n",
    "from pyspark import SparkFiles"
   ]
  },
  {
   "cell_type": "code",
   "execution_count": 0,
   "metadata": {
    "application/vnd.databricks.v1+cell": {
     "cellMetadata": {
      "byteLimit": 2048000,
      "rowLimit": 10000
     },
     "inputWidgets": {},
     "nuid": "a5c1c739-3cc3-4032-a802-66a1fe1cf87d",
     "showTitle": false,
     "tableResultSettingsMap": {},
     "title": ""
    }
   },
   "outputs": [],
   "source": [
    "type(spark)\n"
   ]
  },
  {
   "cell_type": "code",
   "execution_count": 0,
   "metadata": {
    "application/vnd.databricks.v1+cell": {
     "cellMetadata": {
      "byteLimit": 2048000,
      "rowLimit": 10000
     },
     "inputWidgets": {},
     "nuid": "e9bac7c8-8567-4ec1-a5e7-d9a59efa0d55",
     "showTitle": false,
     "tableResultSettingsMap": {},
     "title": ""
    }
   },
   "outputs": [],
   "source": [
    "spark.conf.set(\n",
    "  \"fs.azure.account.auth.type.hotelstorage5.blob.core.windows.net\",\n",
    "  \"SAS\"\n",
    ")\n",
    "spark.conf.set(\n",
    "  \"fs.azure.sas.raw.hotelstorage5.blob.core.windows.net\",\n",
    "  \"sp=r&st=2025-07-18T05:21:03Z&se=2025-07-18T13:36:03Z&spr=https&sv=2024-11-04&sr=b&sig=y2APnhwMfNejhkBYVIyrxbuiaYWRpZC5b5hi5Ny%2BqX4%3D\"\n",
    ")\n",
    "\n",
    "# Access file\n",
    "file_path = \"wasbs://raw@hotelstorage5.blob.core.windows.net/hotel_bookings.csv\"\n",
    "\n",
    "df = spark.read.option(\"header\", \"true\").csv(file_path)\n",
    "df.show(5)\n"
   ]
  },
  {
   "cell_type": "code",
   "execution_count": 0,
   "metadata": {
    "application/vnd.databricks.v1+cell": {
     "cellMetadata": {
      "byteLimit": 2048000,
      "rowLimit": 10000
     },
     "inputWidgets": {},
     "nuid": "3f6a8206-60f5-4b31-94bc-bfb50d5d5b36",
     "showTitle": false,
     "tableResultSettingsMap": {},
     "title": ""
    }
   },
   "outputs": [],
   "source": [
    "display(df)"
   ]
  },
  {
   "cell_type": "code",
   "execution_count": 0,
   "metadata": {
    "application/vnd.databricks.v1+cell": {
     "cellMetadata": {
      "byteLimit": 2048000,
      "rowLimit": 10000
     },
     "inputWidgets": {},
     "nuid": "fee1d79c-cb0f-4f69-b862-44ff543e35f2",
     "showTitle": false,
     "tableResultSettingsMap": {},
     "title": ""
    }
   },
   "outputs": [],
   "source": [
    "df.describe().show()"
   ]
  },
  {
   "cell_type": "code",
   "execution_count": 0,
   "metadata": {
    "application/vnd.databricks.v1+cell": {
     "cellMetadata": {
      "byteLimit": 2048000,
      "rowLimit": 10000
     },
     "inputWidgets": {},
     "nuid": "d561cce1-929a-4e73-a960-aa9823946d51",
     "showTitle": false,
     "tableResultSettingsMap": {},
     "title": ""
    }
   },
   "outputs": [],
   "source": [
    "from pyspark.sql.functions import col, sum\n",
    "\n",
    "null_counts = df.select([sum(col(c).isNull().cast(\"int\")).alias(c) for c in df.columns])\n",
    "display(null_counts)\n"
   ]
  },
  {
   "cell_type": "code",
   "execution_count": 0,
   "metadata": {
    "application/vnd.databricks.v1+cell": {
     "cellMetadata": {
      "byteLimit": 2048000,
      "rowLimit": 10000
     },
     "inputWidgets": {},
     "nuid": "a68c9335-2db9-4312-b504-d05def966d21",
     "showTitle": false,
     "tableResultSettingsMap": {},
     "title": ""
    }
   },
   "outputs": [],
   "source": [
    "from pyspark.sql.functions import when, col\n",
    "\n",
    "df_cleaned = df.fillna({\n",
    "    'children': 0,\n",
    "    'country': 'Unknown',\n",
    "    'agent': 0\n",
    "})\n"
   ]
  },
  {
   "cell_type": "code",
   "execution_count": 0,
   "metadata": {
    "application/vnd.databricks.v1+cell": {
     "cellMetadata": {
      "byteLimit": 2048000,
      "rowLimit": 10000
     },
     "inputWidgets": {},
     "nuid": "128a4bcf-bf9f-424c-b035-cc9388b81c81",
     "showTitle": false,
     "tableResultSettingsMap": {},
     "title": ""
    }
   },
   "outputs": [],
   "source": [
    "from pyspark.sql.functions import concat_ws, to_date\n",
    "\n",
    "df_cleaned = df_cleaned.withColumn(\n",
    "    \"arrival_date\",\n",
    "    to_date(concat_ws(\"-\", \"arrival_date_year\", \"arrival_date_month\", \"arrival_date_day_of_month\"), \"yyyy-MMMM-d\")\n",
    ")\n"
   ]
  },
  {
   "cell_type": "code",
   "execution_count": 0,
   "metadata": {
    "application/vnd.databricks.v1+cell": {
     "cellMetadata": {
      "byteLimit": 2048000,
      "rowLimit": 10000
     },
     "inputWidgets": {},
     "nuid": "3dc3bfbe-8636-471b-820a-7f3a6ae70974",
     "showTitle": false,
     "tableResultSettingsMap": {},
     "title": ""
    }
   },
   "outputs": [],
   "source": [
    "display(df_cleaned)"
   ]
  },
  {
   "cell_type": "code",
   "execution_count": 0,
   "metadata": {
    "application/vnd.databricks.v1+cell": {
     "cellMetadata": {
      "byteLimit": 2048000,
      "rowLimit": 10000
     },
     "inputWidgets": {},
     "nuid": "ae256747-d56f-416b-8657-a38612022995",
     "showTitle": false,
     "tableResultSettingsMap": {},
     "title": ""
    }
   },
   "outputs": [],
   "source": [
    "df_cleaned = df_cleaned.withColumn(\"is_canceled\", col(\"is_canceled\").cast(\"integer\"))\n"
   ]
  },
  {
   "cell_type": "code",
   "execution_count": 0,
   "metadata": {
    "application/vnd.databricks.v1+cell": {
     "cellMetadata": {
      "byteLimit": 2048000,
      "rowLimit": 10000
     },
     "inputWidgets": {},
     "nuid": "936dc37d-e649-4bbf-8e21-8e78db33a7ee",
     "showTitle": false,
     "tableResultSettingsMap": {},
     "title": ""
    }
   },
   "outputs": [],
   "source": [
    "from pyspark.sql.functions import expr\n",
    "\n",
    "df_cleaned = df_cleaned.withColumn(\"total_nights\", col(\"stays_in_weekend_nights\") + col(\"stays_in_week_nights\"))\n",
    "df_cleaned = df_cleaned.withColumn(\"total_revenue\", expr(\"adr * total_nights\"))\n"
   ]
  },
  {
   "cell_type": "code",
   "execution_count": 0,
   "metadata": {
    "application/vnd.databricks.v1+cell": {
     "cellMetadata": {
      "byteLimit": 2048000,
      "rowLimit": 10000
     },
     "inputWidgets": {},
     "nuid": "81067127-325c-4bb8-929f-f7e52fca877b",
     "showTitle": false,
     "tableResultSettingsMap": {},
     "title": ""
    }
   },
   "outputs": [],
   "source": [
    "display(df_cleaned)"
   ]
  },
  {
   "cell_type": "code",
   "execution_count": 0,
   "metadata": {
    "application/vnd.databricks.v1+cell": {
     "cellMetadata": {
      "byteLimit": 2048000,
      "rowLimit": 10000
     },
     "inputWidgets": {},
     "nuid": "71fcdb4a-1403-4859-8ea3-e09c8442e629",
     "showTitle": false,
     "tableResultSettingsMap": {},
     "title": ""
    }
   },
   "outputs": [],
   "source": [
    "df_cleaned = df_cleaned.filter(col(\"is_canceled\") == 0)\n"
   ]
  },
  {
   "cell_type": "code",
   "execution_count": 0,
   "metadata": {
    "application/vnd.databricks.v1+cell": {
     "cellMetadata": {
      "byteLimit": 2048000,
      "rowLimit": 10000
     },
     "inputWidgets": {},
     "nuid": "aace1272-6a38-433b-a786-8fa481dae1ae",
     "showTitle": false,
     "tableResultSettingsMap": {},
     "title": ""
    }
   },
   "outputs": [],
   "source": [
    "df_cleaned.write.mode(\"overwrite\").csv(\"dbfs:/mnt/hoteldata/processed/\")"
   ]
  },
  {
   "cell_type": "code",
   "execution_count": 0,
   "metadata": {
    "application/vnd.databricks.v1+cell": {
     "cellMetadata": {
      "byteLimit": 2048000,
      "rowLimit": 10000
     },
     "inputWidgets": {},
     "nuid": "d18081f6-4265-4754-ac35-5a0a274adbff",
     "showTitle": false,
     "tableResultSettingsMap": {},
     "title": ""
    }
   },
   "outputs": [],
   "source": [
    "display(dbutils.fs.ls(\"dbfs:/mnt/hoteldata/processed/\"))\n"
   ]
  },
  {
   "cell_type": "code",
   "execution_count": 0,
   "metadata": {
    "application/vnd.databricks.v1+cell": {
     "cellMetadata": {
      "byteLimit": 2048000,
      "rowLimit": 10000
     },
     "inputWidgets": {},
     "nuid": "0825f932-3973-43fb-aca9-ef8331b9c683",
     "showTitle": false,
     "tableResultSettingsMap": {},
     "title": ""
    }
   },
   "outputs": [],
   "source": [
    "#df_check = spark.read.csv(\"dbfs:/mnt/hoteldata/processed/\")\n",
    "#display(df_check)"
   ]
  },
  {
   "cell_type": "code",
   "execution_count": 0,
   "metadata": {
    "application/vnd.databricks.v1+cell": {
     "cellMetadata": {
      "byteLimit": 2048000,
      "rowLimit": 10000
     },
     "inputWidgets": {},
     "nuid": "4c7f5e28-d1fd-4f67-a26b-b58e601316b9",
     "showTitle": false,
     "tableResultSettingsMap": {},
     "title": ""
    }
   },
   "outputs": [],
   "source": [
    "#df_cleaned = spark.read.option(\"header\", True).csv(\"dbfs:/mnt/hoteldata/processed/\")\n",
    "#display(df_cleaned)"
   ]
  },
  {
   "cell_type": "code",
   "execution_count": 0,
   "metadata": {
    "application/vnd.databricks.v1+cell": {
     "cellMetadata": {
      "byteLimit": 2048000,
      "rowLimit": 10000
     },
     "inputWidgets": {},
     "nuid": "7c5cee43-6445-4dc1-a04f-929ecaeb4ff3",
     "showTitle": false,
     "tableResultSettingsMap": {},
     "title": ""
    }
   },
   "outputs": [],
   "source": [
    "display(df_cleaned)"
   ]
  },
  {
   "cell_type": "code",
   "execution_count": 0,
   "metadata": {
    "application/vnd.databricks.v1+cell": {
     "cellMetadata": {
      "byteLimit": 2048000,
      "rowLimit": 10000
     },
     "inputWidgets": {},
     "nuid": "3947641e-abb8-4034-908d-4748586727ae",
     "showTitle": false,
     "tableResultSettingsMap": {},
     "title": ""
    }
   },
   "outputs": [],
   "source": [
    "from pyspark.sql.functions import concat_ws, sha2, col\n",
    "\n",
    "dim_customer = df_cleaned.select(\n",
    "    \"country\", \"market_segment\", \"adults\", \"children\", \"babies\"\n",
    ").dropDuplicates()\n",
    "\n",
    "# Create synthetic customer_id using hash\n",
    "dim_customer = dim_customer.withColumn(\n",
    "    \"customer_id\", sha2(concat_ws(\"-\", *dim_customer.columns), 256)\n",
    ")\n"
   ]
  },
  {
   "cell_type": "code",
   "execution_count": 0,
   "metadata": {
    "application/vnd.databricks.v1+cell": {
     "cellMetadata": {
      "byteLimit": 2048000,
      "rowLimit": 10000
     },
     "inputWidgets": {},
     "nuid": "21e29c70-e703-4dd6-99f6-32ef82c36a3e",
     "showTitle": false,
     "tableResultSettingsMap": {},
     "title": ""
    }
   },
   "outputs": [],
   "source": [
    "display(dim_customer)"
   ]
  },
  {
   "cell_type": "code",
   "execution_count": 0,
   "metadata": {
    "application/vnd.databricks.v1+cell": {
     "cellMetadata": {
      "byteLimit": 2048000,
      "rowLimit": 10000
     },
     "inputWidgets": {},
     "nuid": "3b417b63-44ac-4cd6-9f13-c630e7f24927",
     "showTitle": false,
     "tableResultSettingsMap": {},
     "title": ""
    }
   },
   "outputs": [],
   "source": [
    "from pyspark.sql.functions import year, month, dayofweek, monotonically_increasing_id, to_date\n",
    "\n",
    "dim_time = df_cleaned.select(\"arrival_date\").dropDuplicates()\n",
    "\n",
    "dim_time = dim_time.withColumn(\"year\", year(\"arrival_date\")) \\\n",
    "                   .withColumn(\"month\", month(\"arrival_date\")) \\\n",
    "                   .withColumn(\"weekday\", dayofweek(\"arrival_date\")) \\\n",
    "                   .withColumn(\"time_id\", monotonically_increasing_id())\n"
   ]
  },
  {
   "cell_type": "code",
   "execution_count": 0,
   "metadata": {
    "application/vnd.databricks.v1+cell": {
     "cellMetadata": {
      "byteLimit": 2048000,
      "rowLimit": 10000
     },
     "inputWidgets": {},
     "nuid": "cc13ea6d-c0c0-42ef-9c19-bd67cebf40c8",
     "showTitle": false,
     "tableResultSettingsMap": {},
     "title": ""
    }
   },
   "outputs": [],
   "source": [
    "display(dim_time)"
   ]
  },
  {
   "cell_type": "code",
   "execution_count": 0,
   "metadata": {
    "application/vnd.databricks.v1+cell": {
     "cellMetadata": {
      "byteLimit": 2048000,
      "rowLimit": 10000
     },
     "inputWidgets": {},
     "nuid": "63011c91-4549-4dba-a782-5f144ed334f8",
     "showTitle": false,
     "tableResultSettingsMap": {},
     "title": ""
    }
   },
   "outputs": [],
   "source": [
    "dim_hotel = df_cleaned.select(\n",
    "    \"hotel\", \"meal\", \"distribution_channel\"\n",
    ").dropDuplicates()\n",
    "\n",
    "dim_hotel = dim_hotel.withColumn(\n",
    "    \"hotel_id\", sha2(concat_ws(\"-\", *dim_hotel.columns), 256)\n",
    ")\n"
   ]
  },
  {
   "cell_type": "code",
   "execution_count": 0,
   "metadata": {
    "application/vnd.databricks.v1+cell": {
     "cellMetadata": {
      "byteLimit": 2048000,
      "rowLimit": 10000
     },
     "inputWidgets": {},
     "nuid": "76c2561e-643c-4893-8730-56b6828617f2",
     "showTitle": false,
     "tableResultSettingsMap": {},
     "title": ""
    }
   },
   "outputs": [],
   "source": [
    "display(dim_hotel)"
   ]
  },
  {
   "cell_type": "code",
   "execution_count": 0,
   "metadata": {
    "application/vnd.databricks.v1+cell": {
     "cellMetadata": {
      "byteLimit": 2048000,
      "rowLimit": 10000
     },
     "inputWidgets": {},
     "nuid": "7f971910-6eff-4e27-bbd6-71fefddc4ec1",
     "showTitle": false,
     "tableResultSettingsMap": {},
     "title": ""
    }
   },
   "outputs": [],
   "source": [
    "# Join customer_id and hotel_id to original df\n",
    "df_fact = df_cleaned \\\n",
    "    .join(dim_customer, on=[\"country\", \"market_segment\", \"adults\", \"children\", \"babies\"], how=\"left\") \\\n",
    "    .join(dim_hotel, on=[\"hotel\", \"meal\", \"distribution_channel\"], how=\"left\")\n",
    "\n",
    "df_fact = df_fact.withColumn(\"stay_days\", col(\"stays_in_week_nights\") + col(\"stays_in_weekend_nights\")) \\\n",
    "                 .withColumn(\"revenue\", col(\"adr\") * col(\"stay_days\")) \\\n",
    "                 .withColumn(\"booking_id\", monotonically_increasing_id())\n",
    "\n",
    "fact_bookings = df_fact.select(\n",
    "    \"booking_id\", \"hotel_id\", \"customer_id\", \"revenue\", \"stay_days\", \"adr\"\n",
    ")\n"
   ]
  },
  {
   "cell_type": "code",
   "execution_count": 0,
   "metadata": {
    "application/vnd.databricks.v1+cell": {
     "cellMetadata": {
      "byteLimit": 2048000,
      "rowLimit": 10000
     },
     "inputWidgets": {},
     "nuid": "d23dc907-af57-4106-ac82-162426435112",
     "showTitle": false,
     "tableResultSettingsMap": {},
     "title": ""
    }
   },
   "outputs": [],
   "source": [
    "display(df_fact)"
   ]
  },
  {
   "cell_type": "code",
   "execution_count": 0,
   "metadata": {
    "application/vnd.databricks.v1+cell": {
     "cellMetadata": {
      "byteLimit": 2048000,
      "rowLimit": 10000
     },
     "inputWidgets": {},
     "nuid": "ade888f3-6714-45a9-85e0-2cbbb70ef3ef",
     "showTitle": false,
     "tableResultSettingsMap": {},
     "title": ""
    }
   },
   "outputs": [],
   "source": [
    "display(fact_bookings)"
   ]
  },
  {
   "cell_type": "code",
   "execution_count": 0,
   "metadata": {
    "application/vnd.databricks.v1+cell": {
     "cellMetadata": {
      "byteLimit": 2048000,
      "rowLimit": 10000
     },
     "inputWidgets": {},
     "nuid": "645a8f88-1b2c-4d1b-822d-f196f5390fa7",
     "showTitle": false,
     "tableResultSettingsMap": {},
     "title": ""
    }
   },
   "outputs": [],
   "source": [
    "fact_bookings.write.mode(\"overwrite\").option(\"header\", True).csv(\"dbfs:/mnt/hoteldata/fact_bookings\")\n",
    "dim_customer.write.mode(\"overwrite\").option(\"header\", True).csv(\"dbfs:/mnt/hoteldata/dim_customer\")\n",
    "dim_hotel.write.mode(\"overwrite\").option(\"header\", True).csv(\"dbfs:/mnt/hoteldata/dim_hotel\")\n",
    "dim_time.write.mode(\"overwrite\").option(\"header\", True).csv(\"dbfs:/mnt/hoteldata/dim_time\")\n"
   ]
  },
  {
   "cell_type": "code",
   "execution_count": 0,
   "metadata": {
    "application/vnd.databricks.v1+cell": {
     "cellMetadata": {
      "byteLimit": 2048000,
      "rowLimit": 10000
     },
     "inputWidgets": {},
     "nuid": "9a7a361f-1a53-4a0f-bd9e-50cbfea71d6b",
     "showTitle": false,
     "tableResultSettingsMap": {},
     "title": ""
    }
   },
   "outputs": [],
   "source": [
    "def save_df_to_adls(df, folder_name):\n",
    "    abfs_path = f\"abfss://raw@hotelstorage5.dfs.core.windows.net/hoteldata/{folder_name}\"\n",
    "    spark.conf.set(\n",
    "        \"fs.azure.sas.raw.hotelstorage5.dfs.core.windows.net\",\n",
    "        \"sp=racw&st=2025-07-18T06:52:08Z&se=2025-07-18T15:07:08Z&spr=https&sv=2024-11-04&sr=c&sig=GJzb2mWBCPIbI8ZiDxls5tzoKuX1FjlAAHwOmcYMGss%3D\"\n",
    "    )\n",
    "    df.write \\\n",
    "        .format(\"csv\") \\\n",
    "        .option(\"header\", True) \\\n",
    "        .mode(\"overwrite\") \\\n",
    "        .save(abfs_path)\n",
    "\n",
    "save_df_to_adls(fact_bookings, \"fact_bookings\")\n",
    "save_df_to_adls(dim_customer, \"dim_customer\")\n",
    "save_df_to_adls(dim_time, \"dim_time\")\n",
    "save_df_to_adls(dim_hotel, \"dim_hotel\")\n"
   ]
  }
 ],
 "metadata": {
  "application/vnd.databricks.v1+notebook": {
   "computePreferences": null,
   "dashboards": [],
   "environmentMetadata": {
    "base_environment": "",
    "environment_version": "2"
   },
   "inputWidgetPreferences": null,
   "language": "python",
   "notebookMetadata": {
    "pythonIndentUnit": 4
   },
   "notebookName": "hotel_transformations",
   "widgets": {}
  },
  "language_info": {
   "name": "python"
  }
 },
 "nbformat": 4,
 "nbformat_minor": 0
}